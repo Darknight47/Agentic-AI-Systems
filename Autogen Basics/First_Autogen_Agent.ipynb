{
 "cells": [
  {
   "cell_type": "markdown",
   "id": "f72b97f3",
   "metadata": {},
   "source": [
    "## First Autogen Agent\n",
    "The main objective of this project is to build a simple agent using **AutoGen v0.4** and **OpenAI's GPT-4**.  \n",
    "We'll ask the agent fun question and see how it responds."
   ]
  },
  {
   "cell_type": "code",
   "execution_count": null,
   "id": "364b46ed",
   "metadata": {},
   "outputs": [],
   "source": [
    "from autogen_agentchat.agents import AssistantAgent # handles the logic and orchestration\n",
    "\"\"\"\n",
    "1. Interacts with users or other agents\n",
    "2. Uses an LLM (like GPT-4) to generate responses\n",
    "3. Can call tools, hand off tasks, and manage multi-step workflows\n",
    "4. Supports memory, streaming, and structured output\n",
    "\"\"\"\n",
    "from autogen_ext.models.openai import OpenAIChatCompletionClient # provides the language model backend\n",
    "\"\"\"\n",
    "1. Sending messages to the model\n",
    "2. Receiving responses\n",
    "3. Streaming tokens (if enabled)\n",
    "4. Structured output (via Pydantic schemas)\n",
    "5. Tool calling and function execution\n",
    "\"\"\"\n",
    "from dotenv import load_dotenv\n",
    "import os\n",
    "\n",
    "load_dotenv()\n",
    "\n",
    "api_key = os.getenv('OPEN_AI_KEY')"
   ]
  },
  {
   "cell_type": "markdown",
   "id": "7c69d586",
   "metadata": {},
   "source": []
  }
 ],
 "metadata": {
  "kernelspec": {
   "display_name": ".venv",
   "language": "python",
   "name": "python3"
  },
  "language_info": {
   "codemirror_mode": {
    "name": "ipython",
    "version": 3
   },
   "file_extension": ".py",
   "mimetype": "text/x-python",
   "name": "python",
   "nbconvert_exporter": "python",
   "pygments_lexer": "ipython3",
   "version": "3.12.2"
  }
 },
 "nbformat": 4,
 "nbformat_minor": 5
}
